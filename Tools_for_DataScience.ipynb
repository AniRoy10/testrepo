{
 "cells": [
  {
   "cell_type": "markdown",
   "metadata": {},
   "source": [
    "<center>\n",
    "    <img src=\"https://cf-courses-data.s3.us.cloud-object-storage.appdomain.cloud/IBMDeveloperSkillsNetwork-DS0105EN-SkillsNetwork/labs/Module2/images/SN_web_lightmode.png\" width=\"300\" alt=\"cognitiveclass.ai logo\">\n",
    "</center>\n"
   ]
  },
  {
   "cell_type": "markdown",
   "metadata": {},
   "source": [
    "#### Add your code below following the instructions given in the course\n"
   ]
  },
  {
   "cell_type": "markdown",
   "metadata": {},
   "source": [
    "### Tools for Data science Assignment workbook"
   ]
  },
  {
   "cell_type": "markdown",
   "metadata": {},
   "source": [
    "### we will explore Jupyter Notebooks functionalities  "
   ]
  },
  {
   "cell_type": "markdown",
   "metadata": {},
   "source": [
    "### Data science Languages:\n",
    "#### Python (Mostly Used)\n",
    "#### R (Suitable for Statistical analysis)\n",
    "#### SQL (for Data extraction from RDBMS systems)\n",
    "#### Others (Julia , Scala , SAS)"
   ]
  },
  {
   "cell_type": "markdown",
   "metadata": {},
   "source": [
    "### Data science Libraries\n",
    "#### Numpy , pandas , matplotlib , Scikit-learn,seaborn , Tensorflow , Keras (Python)\n",
    "#### ggplot ,dplyr, caret (R)"
   ]
  },
  {
   "cell_type": "markdown",
   "metadata": {},
   "source": [
    "### Data science tools\n",
    "#### Jupyter Notebook,R studio , Vscode , Pycharm , Github"
   ]
  },
  {
   "cell_type": "markdown",
   "metadata": {},
   "source": [
    "### Arithmetic expressions\n",
    "#### Addition (+): Combines two or more numbers. (6+8=14)\n",
    "#### Subtraction (-): Calculates the difference between two numbers.(8-6=2)\n",
    "#### Multiplication (*): Finds the product of two or more numbers.(4*5=20)\n",
    "#### Division (/): Divides one number by another.(12/4=3)\n",
    "#### Modulus (%): Returns the remainder of a division operation.(13%2)=1"
   ]
  },
  {
   "cell_type": "markdown",
   "metadata": {},
   "source": [
    "### Multiplication and addition using User input"
   ]
  },
  {
   "cell_type": "code",
   "execution_count": 3,
   "metadata": {
    "tags": []
   },
   "outputs": [
    {
     "name": "stdin",
     "output_type": "stream",
     "text": [
      "First number 3\n",
      "second number 5\n"
     ]
    },
    {
     "name": "stdout",
     "output_type": "stream",
     "text": [
      "multiplication result is 15\n",
      "addition result is 8\n"
     ]
    }
   ],
   "source": [
    "num1=input(\"First number\")\n",
    "num2=input(\"second number\")\n",
    "res=int(num1)*int(num2)\n",
    "res1=int(num1)+int(num2)\n",
    "print(f'multiplication result is {res}')\n",
    "print(f'addition result is {res1}')"
   ]
  },
  {
   "cell_type": "markdown",
   "metadata": {},
   "source": [
    "### Minutes to hours"
   ]
  },
  {
   "cell_type": "markdown",
   "metadata": {
    "tags": []
   },
   "source": [
    "minutes=input(\"Enter minutes\")\n",
    "hours=int(minutes)\n",
    "print(f'Hours: {hours:.2f}')"
   ]
  },
  {
   "cell_type": "markdown",
   "metadata": {},
   "source": [
    "### Objectives\n",
    "#### Here we have seen how we can work in a Jupyter Lab\n",
    "#### How to use Markdown to describe a topic\n",
    "#### Using cells to write our code"
   ]
  },
  {
   "cell_type": "markdown",
   "metadata": {},
   "source": [
    "#### Author name: Anirjit Datta Roy"
   ]
  },
  {
   "cell_type": "code",
   "execution_count": null,
   "metadata": {},
   "outputs": [],
   "source": []
  }
 ],
 "metadata": {
  "kernelspec": {
   "display_name": "Python",
   "language": "python",
   "name": "conda-env-python-py"
  },
  "language_info": {
   "codemirror_mode": {
    "name": "ipython",
    "version": 3
   },
   "file_extension": ".py",
   "mimetype": "text/x-python",
   "name": "python",
   "nbconvert_exporter": "python",
   "pygments_lexer": "ipython3",
   "version": "3.7.12"
  }
 },
 "nbformat": 4,
 "nbformat_minor": 4
}
